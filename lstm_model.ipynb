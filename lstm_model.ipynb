{
 "cells": [
  {
   "cell_type": "markdown",
   "id": "29b17a3e",
   "metadata": {
    "ExecuteTime": {
     "end_time": "2022-11-22T02:53:45.180898Z",
     "start_time": "2022-11-22T02:53:45.177830Z"
    }
   },
   "source": [
    "# physionet2012 데이터 전처리\n",
    "- 데이터 가져오기\n",
    "- scaler 가져오기\n",
    "- X, y 분리하기\n",
    "- scaler 적용하기\n",
    "- model에 입력가능한 3차원 형태 데이터 만들기\n",
    "- (batch_size, maxlen, feature_dim)"
   ]
  },
  {
   "cell_type": "code",
   "execution_count": 1,
   "id": "03c9306e",
   "metadata": {
    "ExecuteTime": {
     "end_time": "2022-11-22T03:53:48.332983Z",
     "start_time": "2022-11-22T03:53:46.189173Z"
    }
   },
   "outputs": [],
   "source": [
    "# 전처리된 데이터 가져오기\n",
    "\n",
    "import numpy as np\n",
    "import pandas as pd\n",
    "\n",
    "path = '/Users/jsha/gjai/final_project/black_swan_physionet/'\n",
    "file = 'train_done_preprocessing.csv'\n",
    "file2 = 'valid_done_preprocessing.csv'\n",
    "file3 = 'test_done_preprocessing.csv'\n",
    "\n",
    "train_df = pd.read_csv(path+file)\n",
    "valid_df = pd.read_csv(path+file2)\n",
    "test_df = pd.read_csv(path+file3)\n",
    "\n",
    "maxlen = len(train_df[train_df['pid'] == train_df['pid'][0]])"
   ]
  },
  {
   "cell_type": "code",
   "execution_count": 2,
   "id": "8301c7b2",
   "metadata": {
    "ExecuteTime": {
     "end_time": "2022-11-22T03:53:48.394008Z",
     "start_time": "2022-11-22T03:53:48.336213Z"
    }
   },
   "outputs": [
    {
     "name": "stdout",
     "output_type": "stream",
     "text": [
      "[41]\n",
      "(226800,)\n",
      "(226800, 40)\n",
      "(25200,)\n",
      "(25200, 40)\n",
      "(28000,)\n",
      "(28000, 40)\n"
     ]
    }
   ],
   "source": [
    "# labels 컬럼 인덱스 찾기\n",
    "inx = test_df.columns.get_indexer(['labels'])\n",
    "print(inx)\n",
    "\n",
    "# X, y 분리\n",
    "y_train = train_df['labels']\n",
    "X_train_nonorm = train_df.drop(columns=['pid', 'Gender', 'survival', 'surv_los', 'LOS', 'labels'])\n",
    "print(y_train.shape)\n",
    "print(X_train_nonorm.shape)\n",
    "\n",
    "y_valid = valid_df['labels']\n",
    "X_valid_nonorm = valid_df.drop(columns=['pid', 'Gender', 'survival', 'surv_los', 'LOS', 'labels'])\n",
    "print(y_valid.shape)\n",
    "print(X_valid_nonorm.shape)\n",
    "\n",
    "y_test = test_df['labels']\n",
    "X_test_nonorm = test_df.drop(columns=['pid', 'Gender', 'survival', 'surv_los', 'LOS', 'labels'])\n",
    "print(y_test.shape)\n",
    "print(X_test_nonorm.shape)"
   ]
  },
  {
   "cell_type": "code",
   "execution_count": 3,
   "id": "fcde36cf",
   "metadata": {
    "ExecuteTime": {
     "end_time": "2022-11-22T03:53:48.890240Z",
     "start_time": "2022-11-22T03:53:48.396667Z"
    }
   },
   "outputs": [
    {
     "name": "stdout",
     "output_type": "stream",
     "text": [
      "(226800, 40)\n",
      "(226800,)\n",
      "(3240, 70, 40)\n",
      "(3240,)\n",
      "(360, 70, 40)\n",
      "(360,)\n",
      "(400, 70, 40)\n",
      "(400,)\n"
     ]
    }
   ],
   "source": [
    "# scaler를 이용한 정규화\n",
    "\n",
    "import pickle\n",
    "\n",
    "mms = 'mms.pickle'\n",
    "with open(path+mms, 'rb') as handler:\n",
    "    load_mms = pickle.load(handler)\n",
    "    \n",
    "X_train = load_mms.transform(X_train_nonorm)\n",
    "X_valid = load_mms.transform(X_valid_nonorm)\n",
    "X_test = load_mms.transform(X_test_nonorm)\n",
    "\n",
    "print(X_train.shape)\n",
    "print(y_train.shape)\n",
    "X_train_3d = X_train.reshape((-1, maxlen, X_train.shape[-1]))\n",
    "print(X_train_3d.shape)\n",
    "y_train_3d = y_train[::maxlen]\n",
    "print(y_train_3d.shape)\n",
    "\n",
    "X_valid_3d = X_valid.reshape((-1, maxlen, X_valid.shape[-1]))\n",
    "print(X_valid_3d.shape)\n",
    "y_valid_3d = y_valid[::maxlen]\n",
    "print(y_valid_3d.shape)\n",
    "\n",
    "X_test_3d = X_test.reshape((-1, maxlen, X_test.shape[-1]))\n",
    "print(X_test_3d.shape)\n",
    "y_test_3d = y_test[::maxlen]\n",
    "print(y_test_3d.shape)"
   ]
  },
  {
   "cell_type": "markdown",
   "id": "5857158b",
   "metadata": {},
   "source": [
    "# Model 설계 "
   ]
  },
  {
   "cell_type": "markdown",
   "id": "acccd39a",
   "metadata": {
    "ExecuteTime": {
     "end_time": "2022-11-22T03:20:17.094265Z",
     "start_time": "2022-11-22T03:20:17.091021Z"
    }
   },
   "source": [
    "## LSTM"
   ]
  },
  {
   "cell_type": "code",
   "execution_count": 4,
   "id": "69485fc8",
   "metadata": {
    "ExecuteTime": {
     "end_time": "2022-11-22T03:53:51.034654Z",
     "start_time": "2022-11-22T03:53:48.894358Z"
    }
   },
   "outputs": [
    {
     "name": "stderr",
     "output_type": "stream",
     "text": [
      "2022-11-22 19:31:45.983155: I tensorflow/core/platform/cpu_feature_guard.cc:193] This TensorFlow binary is optimized with oneAPI Deep Neural Network Library (oneDNN) to use the following CPU instructions in performance-critical operations:  SSE4.1 SSE4.2 AVX AVX2 FMA\n",
      "To enable them in other operations, rebuild TensorFlow with the appropriate compiler flags.\n"
     ]
    }
   ],
   "source": [
    "from tensorflow.keras.models import Sequential\n",
    "from tensorflow.keras.layers import Dense, Dropout, Flatten, LSTM, Conv2D\n",
    "\n",
    "feature_dim = X_train.shape[-1]\n",
    "\n",
    "lstm_model = Sequential()\n",
    "lstm_model.add(LSTM(64, activation='tanh', input_shape=(maxlen, feature_dim), return_sequences=True))\n",
    "lstm_model.add(Dropout(0.2))\n",
    "lstm_model.add(LSTM(64, activation='tanh'))\n",
    "lstm_model.add(Dropout(0.5))\n",
    "lstm_model.add(Dense(32, activation='relu'))\n",
    "# lstm_model.add(Flatten())\n",
    "lstm_model.add(Dense(8, activation='relu'))\n",
    "lstm_model.add(Dropout(0.2))\n",
    "lstm_model.add(Dense(1, activation='sigmoid'))"
   ]
  },
  {
   "cell_type": "code",
   "execution_count": 5,
   "id": "b50ea619",
   "metadata": {
    "ExecuteTime": {
     "end_time": "2022-11-22T03:53:51.059120Z",
     "start_time": "2022-11-22T03:53:51.037518Z"
    }
   },
   "outputs": [
    {
     "name": "stdout",
     "output_type": "stream",
     "text": [
      "Model: \"sequential\"\n",
      "_________________________________________________________________\n",
      " Layer (type)                Output Shape              Param #   \n",
      "=================================================================\n",
      " lstm (LSTM)                 (None, 70, 64)            26880     \n",
      "                                                                 \n",
      " dropout (Dropout)           (None, 70, 64)            0         \n",
      "                                                                 \n",
      " lstm_1 (LSTM)               (None, 64)                33024     \n",
      "                                                                 \n",
      " dropout_1 (Dropout)         (None, 64)                0         \n",
      "                                                                 \n",
      " dense (Dense)               (None, 32)                2080      \n",
      "                                                                 \n",
      " dense_1 (Dense)             (None, 8)                 264       \n",
      "                                                                 \n",
      " dropout_2 (Dropout)         (None, 8)                 0         \n",
      "                                                                 \n",
      " dense_2 (Dense)             (None, 1)                 9         \n",
      "                                                                 \n",
      "=================================================================\n",
      "Total params: 62,257\n",
      "Trainable params: 62,257\n",
      "Non-trainable params: 0\n",
      "_________________________________________________________________\n"
     ]
    }
   ],
   "source": [
    "lstm_model.summary()"
   ]
  },
  {
   "cell_type": "code",
   "execution_count": 6,
   "id": "ca77581a",
   "metadata": {
    "ExecuteTime": {
     "end_time": "2022-11-22T03:53:51.075200Z",
     "start_time": "2022-11-22T03:53:51.061787Z"
    }
   },
   "outputs": [],
   "source": [
    "lstm_model.compile(loss='binary_crossentropy', optimizer='adam', metrics='acc')"
   ]
  },
  {
   "cell_type": "code",
   "execution_count": 7,
   "id": "6e918cc3",
   "metadata": {
    "ExecuteTime": {
     "end_time": "2022-11-22T03:54:00.050965Z",
     "start_time": "2022-11-22T03:53:51.082980Z"
    }
   },
   "outputs": [
    {
     "name": "stdout",
     "output_type": "stream",
     "text": [
      "Epoch 1/20\n",
      "81/81 [==============================] - 7s 53ms/step - loss: 0.4331 - acc: 0.8611 - val_loss: 0.3897 - val_acc: 0.8639\n",
      "Epoch 2/20\n",
      "81/81 [==============================] - 3s 43ms/step - loss: 0.3775 - acc: 0.8688 - val_loss: 0.3390 - val_acc: 0.8639\n",
      "Epoch 3/20\n",
      "81/81 [==============================] - 4s 49ms/step - loss: 0.3527 - acc: 0.8673 - val_loss: 0.3199 - val_acc: 0.8639\n",
      "Epoch 4/20\n",
      "81/81 [==============================] - 4s 50ms/step - loss: 0.3411 - acc: 0.8691 - val_loss: 0.3310 - val_acc: 0.8639\n",
      "Epoch 5/20\n",
      "81/81 [==============================] - 4s 45ms/step - loss: 0.3370 - acc: 0.8682 - val_loss: 0.3380 - val_acc: 0.8639\n",
      "Epoch 6/20\n",
      "81/81 [==============================] - 4s 46ms/step - loss: 0.3506 - acc: 0.8685 - val_loss: 0.3239 - val_acc: 0.8639\n",
      "Epoch 7/20\n",
      "81/81 [==============================] - 4s 46ms/step - loss: 0.3326 - acc: 0.8707 - val_loss: 0.3276 - val_acc: 0.8667\n",
      "Epoch 8/20\n",
      "81/81 [==============================] - 4s 46ms/step - loss: 0.3359 - acc: 0.8670 - val_loss: 0.3208 - val_acc: 0.8639\n",
      "Epoch 9/20\n",
      "81/81 [==============================] - 4s 46ms/step - loss: 0.3186 - acc: 0.8698 - val_loss: 0.3229 - val_acc: 0.8639\n",
      "Epoch 10/20\n",
      "81/81 [==============================] - 4s 47ms/step - loss: 0.3271 - acc: 0.8741 - val_loss: 0.3153 - val_acc: 0.8611\n",
      "Epoch 11/20\n",
      "81/81 [==============================] - 4s 47ms/step - loss: 0.3299 - acc: 0.8750 - val_loss: 0.3152 - val_acc: 0.8722\n",
      "Epoch 12/20\n",
      "81/81 [==============================] - 4s 47ms/step - loss: 0.3210 - acc: 0.8738 - val_loss: 0.3175 - val_acc: 0.8500\n",
      "Epoch 13/20\n",
      "81/81 [==============================] - 4s 48ms/step - loss: 0.3218 - acc: 0.8735 - val_loss: 0.3129 - val_acc: 0.8750\n",
      "Epoch 14/20\n",
      "81/81 [==============================] - 4s 47ms/step - loss: 0.3243 - acc: 0.8769 - val_loss: 0.3286 - val_acc: 0.8722\n",
      "Epoch 15/20\n",
      "81/81 [==============================] - 4s 48ms/step - loss: 0.3206 - acc: 0.8759 - val_loss: 0.3209 - val_acc: 0.8722\n",
      "Epoch 16/20\n",
      "81/81 [==============================] - 4s 48ms/step - loss: 0.3153 - acc: 0.8753 - val_loss: 0.3230 - val_acc: 0.8500\n",
      "Epoch 17/20\n",
      "81/81 [==============================] - 4s 48ms/step - loss: 0.3177 - acc: 0.8744 - val_loss: 0.3316 - val_acc: 0.8694\n",
      "Epoch 18/20\n",
      "81/81 [==============================] - 4s 48ms/step - loss: 0.3170 - acc: 0.8759 - val_loss: 0.3300 - val_acc: 0.8611\n",
      "Epoch 19/20\n",
      "81/81 [==============================] - 4s 49ms/step - loss: 0.3162 - acc: 0.8741 - val_loss: 0.3257 - val_acc: 0.8667\n",
      "Epoch 20/20\n",
      "81/81 [==============================] - 4s 48ms/step - loss: 0.3155 - acc: 0.8744 - val_loss: 0.3235 - val_acc: 0.8639\n"
     ]
    }
   ],
   "source": [
    "# 모델 학습하기\n",
    "\n",
    "from tensorflow.keras.callbacks import EarlyStopping\n",
    "\n",
    "epochs = 20\n",
    "batch_size = 40\n",
    "\n",
    "early_stopping = EarlyStopping(monitor='val_loss', patience=5, verbose=1)\n",
    "\n",
    "lstm_history = lstm_model.fit(X_train_3d, y_train_3d, epochs=epochs, batch_size=batch_size, \n",
    "                    validation_data=(X_valid_3d, y_valid_3d))"
   ]
  },
  {
   "cell_type": "code",
   "execution_count": 8,
   "id": "9af0a9fd",
   "metadata": {
    "ExecuteTime": {
     "end_time": "2022-11-22T03:54:00.836478Z",
     "start_time": "2022-11-22T03:54:00.052787Z"
    }
   },
   "outputs": [
    {
     "data": {
      "text/plain": [
       "<matplotlib.legend.Legend at 0x7fa68a291730>"
      ]
     },
     "execution_count": 8,
     "metadata": {},
     "output_type": "execute_result"
    },
    {
     "data": {
      "image/png": "[encoded data removed]",
      "text/plain": [
       "<Figure size 640x480 with 1 Axes>"
      ]
     },
     "metadata": {},
     "output_type": "display_data"
    }
   ],
   "source": [
    "# epoch별 model acc 비교하기 \n",
    "\n",
    "import matplotlib.pyplot as plt\n",
    "\n",
    "history = lstm_history.history\n",
    "\n",
    "loss = history['loss']\n",
    "acc = history['acc']\n",
    "val_loss = history['val_loss']\n",
    "val_acc = history['val_acc']\n",
    "length = len(val_acc)\n",
    "\n",
    "plt.plot(range(length), acc, 'ro', label='acc')\n",
    "plt.plot(range(length), val_acc, 'b-', label='val_acc')\n",
    "plt.xlabel('epochs')\n",
    "plt.ylabel('accuracy')\n",
    "plt.legend()"
   ]
  },
  {
   "cell_type": "code",
   "execution_count": 9,
   "id": "96f82217",
   "metadata": {
    "ExecuteTime": {
     "end_time": "2022-11-22T03:54:00.976773Z",
     "start_time": "2022-11-22T03:54:00.838967Z"
    }
   },
   "outputs": [
    {
     "data": {
      "text/plain": [
       "<matplotlib.legend.Legend at 0x7fa6869a43a0>"
      ]
     },
     "execution_count": 9,
     "metadata": {},
     "output_type": "execute_result"
    },
    {
     "data": {
      "image/png": "[encoded data removed]",
      "text/plain": [
       "<Figure size 640x480 with 1 Axes>"
      ]
     },
     "metadata": {},
     "output_type": "display_data"
    }
   ],
   "source": [
    "# epoch별 모델 loss 확인하기\n",
    "\n",
    "plt.plot(range(length), loss, 'ro', label='loss')\n",
    "plt.plot(range(length), val_loss, 'b-', label='val_loss')\n",
    "plt.xlabel('epochs')\n",
    "plt.ylabel('loss')\n",
    "plt.legend()"
   ]
  },
  {
   "cell_type": "code",
   "execution_count": 10,
   "id": "46fcda4a",
   "metadata": {
    "ExecuteTime": {
     "end_time": "2022-11-22T03:54:01.171335Z",
     "start_time": "2022-11-22T03:54:00.983155Z"
    }
   },
   "outputs": [
    {
     "name": "stdout",
     "output_type": "stream",
     "text": [
      "13/13 [==============================] - 1s 19ms/step - loss: 0.2983 - acc: 0.8875\n",
      "test_acc: 0.89\n",
      "test_loss: 0.30\n"
     ]
    }
   ],
   "source": [
    "# test acc 구하기\n",
    "\n",
    "test_loss, test_acc = lstm_model.evaluate(X_test_3d, y_test_3d)\n",
    "print(f'test_acc: {test_acc:.2f}')\n",
    "print(f'test_loss: {test_loss:.2f}')"
   ]
  },
  {
   "cell_type": "code",
   "execution_count": 11,
   "id": "89cc4cbf",
   "metadata": {
    "ExecuteTime": {
     "end_time": "2022-11-22T03:54:01.334401Z",
     "start_time": "2022-11-22T03:54:01.173270Z"
    }
   },
   "outputs": [
    {
     "name": "stdout",
     "output_type": "stream",
     "text": [
      "13/13 [==============================] - 1s 12ms/step\n",
      "acc_test: 0.89\n",
      "auc_score_test: 0.83\n"
     ]
    }
   ],
   "source": [
    "# auroc 구하기\n",
    "\n",
    "from sklearn.metrics import roc_auc_score\n",
    "\n",
    "test_pred = lstm_model.predict(X_test_3d)\n",
    "auc = roc_auc_score(y_test_3d, test_pred)\n",
    "\n",
    "print(f'acc_test: {test_acc:.2f}')\n",
    "print(f'auc_score_test: {auc:.2f}')"
   ]
  },
  {
   "cell_type": "markdown",
   "id": "0b0d0f96",
   "metadata": {},
   "source": [
    "## LSTM 모델"
   ]
  },
  {
   "cell_type": "markdown",
   "id": "eeafa02e",
   "metadata": {},
   "source": [
    "- 일단 전반적으로 학습이 되지 않는다.\n",
    "    - 학습 과정 중 val_acc의 수치 변화가 없다.\n",
    "    - 학습 과정 중 loss가 강하게 튀는 것을 볼 수 있는데 그 이유는 무엇일까?\n",
    "- simple_dense_model보다 성능이 좋지 않다.\n",
    "- 층을 깊게 쌓을수록 학습되지 않는 현상이 심하게 나타난다.\n",
    "    - 층을 간단하게 하니, loss가 튀는 것을 막을 수 있었다.\n",
    "    - 하지만, 학습되지 않는 건 여전하다.\n",
    "- 확실하진 않지만, lstm을 두 개 연속으로 연결할 때 loss가 튀는 현상이 보인다.\n",
    "- batch_size와 epoch를 조절해 보자."
   ]
  },
  {
   "cell_type": "code",
   "execution_count": null,
   "id": "83a2d4ad",
   "metadata": {},
   "outputs": [],
   "source": []
  }
 ],
 "metadata": {
  "kernelspec": {
   "display_name": "nlp3810_new",
   "language": "python",
   "name": "nlp3810"
  },
  "language_info": {
   "codemirror_mode": {
    "name": "ipython",
    "version": 3
   },
   "file_extension": ".py",
   "mimetype": "text/x-python",
   "name": "python",
   "nbconvert_exporter": "python",
   "pygments_lexer": "ipython3",
   "version": "3.8.10"
  },
  "toc": {
   "base_numbering": 1,
   "nav_menu": {},
   "number_sections": true,
   "sideBar": true,
   "skip_h1_title": false,
   "title_cell": "Table of Contents",
   "title_sidebar": "Contents",
   "toc_cell": false,
   "toc_position": {},
   "toc_section_display": true,
   "toc_window_display": true
  },
  "varInspector": {
   "cols": {
    "lenName": 16,
    "lenType": 16,
    "lenVar": 40
   },
   "kernels_config": {
    "python": {
     "delete_cmd_postfix": "",
     "delete_cmd_prefix": "del ",
     "library": "var_list.py",
     "varRefreshCmd": "print(var_dic_list())"
    },
    "r": {
     "delete_cmd_postfix": ") ",
     "delete_cmd_prefix": "rm(",
     "library": "var_list.r",
     "varRefreshCmd": "cat(var_dic_list()) "
    }
   },
   "types_to_exclude": [
    "module",
    "function",
    "builtin_function_or_method",
    "instance",
    "_Feature"
   ],
   "window_display": false
  }
 },
 "nbformat": 4,
 "nbformat_minor": 5
}
