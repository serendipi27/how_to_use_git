{
 "cells": [
  {
   "cell_type": "markdown",
   "id": "29b17a3e",
   "metadata": {
    "ExecuteTime": {
     "end_time": "2022-11-22T02:53:45.180898Z",
     "start_time": "2022-11-22T02:53:45.177830Z"
    }
   },
   "source": [
    "# physionet2012 데이터 전처리\n",
    "- 데이터 가져오기\n",
    "- scaler 가져오기\n",
    "- X, y 분리하기\n",
    "- scaler 적용하기\n",
    "- model에 입력가능한 3차원 형태 데이터 만들기\n",
    "- (batch_size, maxlen, feature_dim)"
   ]
  },
  {
   "cell_type": "code",
   "execution_count": 1,
   "id": "03c9306e",
   "metadata": {
    "ExecuteTime": {
     "end_time": "2022-11-22T03:53:48.332983Z",
     "start_time": "2022-11-22T03:53:46.189173Z"
    }
   },
   "outputs": [],
   "source": [
    "# 전처리된 데이터 가져오기\n",
    "\n",
    "import numpy as np\n",
    "import pandas as pd\n",
    "\n",
    "path = '/Users/jsha/gjai/final_project/black_swan_physionet/'\n",
    "file = 'train_done_preprocessing.csv'\n",
    "file2 = 'valid_done_preprocessing.csv'\n",
    "file3 = 'test_done_preprocessing.csv'\n",
    "\n",
    "train_df = pd.read_csv(path+file)\n",
    "valid_df = pd.read_csv(path+file2)\n",
    "test_df = pd.read_csv(path+file3)\n",
    "\n",
    "maxlen = len(train_df[train_df['pid'] == train_df['pid'][0]])"
   ]
  },
  {
   "cell_type": "code",
   "execution_count": 2,
   "id": "8301c7b2",
   "metadata": {
    "ExecuteTime": {
     "end_time": "2022-11-22T03:53:48.394008Z",
     "start_time": "2022-11-22T03:53:48.336213Z"
    }
   },
   "outputs": [
    {
     "name": "stdout",
     "output_type": "stream",
     "text": [
      "[41]\n",
      "(226800,)\n",
      "(226800, 40)\n",
      "(25200,)\n",
      "(25200, 40)\n",
      "(28000,)\n",
      "(28000, 40)\n"
     ]
    }
   ],
   "source": [
    "# labels 컬럼 인덱스 찾기\n",
    "inx = test_df.columns.get_indexer(['labels'])\n",
    "print(inx)\n",
    "\n",
    "# X, y 분리\n",
    "y_train = train_df['labels']\n",
    "X_train_nonorm = train_df.drop(columns=['pid', 'Gender', 'survival', 'surv_los', 'LOS', 'labels'])\n",
    "print(y_train.shape)\n",
    "print(X_train_nonorm.shape)\n",
    "\n",
    "y_valid = valid_df['labels']\n",
    "X_valid_nonorm = valid_df.drop(columns=['pid', 'Gender', 'survival', 'surv_los', 'LOS', 'labels'])\n",
    "print(y_valid.shape)\n",
    "print(X_valid_nonorm.shape)\n",
    "\n",
    "y_test = test_df['labels']\n",
    "X_test_nonorm = test_df.drop(columns=['pid', 'Gender', 'survival', 'surv_los', 'LOS', 'labels'])\n",
    "print(y_test.shape)\n",
    "print(X_test_nonorm.shape)"
   ]
  },
  {
   "cell_type": "code",
   "execution_count": 3,
   "id": "fcde36cf",
   "metadata": {
    "ExecuteTime": {
     "end_time": "2022-11-22T03:53:48.890240Z",
     "start_time": "2022-11-22T03:53:48.396667Z"
    }
   },
   "outputs": [
    {
     "name": "stdout",
     "output_type": "stream",
     "text": [
      "(226800, 40)\n",
      "(226800,)\n",
      "(3240, 70, 40)\n",
      "(3240,)\n",
      "(360, 70, 40)\n",
      "(360,)\n",
      "(400, 70, 40)\n",
      "(400,)\n"
     ]
    }
   ],
   "source": [
    "# scaler를 이용한 정규화\n",
    "\n",
    "import pickle\n",
    "\n",
    "mms = 'mms.pickle'\n",
    "with open(path+mms, 'rb') as handler:\n",
    "    load_mms = pickle.load(handler)\n",
    "    \n",
    "X_train = load_mms.transform(X_train_nonorm)\n",
    "X_valid = load_mms.transform(X_valid_nonorm)\n",
    "X_test = load_mms.transform(X_test_nonorm)\n",
    "\n",
    "print(X_train.shape)\n",
    "print(y_train.shape)\n",
    "X_train_3d = X_train.reshape((-1, maxlen, X_train.shape[-1]))\n",
    "print(X_train_3d.shape)\n",
    "y_train_3d = y_train[::maxlen]\n",
    "print(y_train_3d.shape)\n",
    "\n",
    "X_valid_3d = X_valid.reshape((-1, maxlen, X_valid.shape[-1]))\n",
    "print(X_valid_3d.shape)\n",
    "y_valid_3d = y_valid[::maxlen]\n",
    "print(y_valid_3d.shape)\n",
    "\n",
    "X_test_3d = X_test.reshape((-1, maxlen, X_test.shape[-1]))\n",
    "print(X_test_3d.shape)\n",
    "y_test_3d = y_test[::maxlen]\n",
    "print(y_test_3d.shape)"
   ]
  },
  {
   "cell_type": "markdown",
   "id": "5857158b",
   "metadata": {},
   "source": [
    "# Model 설계 "
   ]
  },
  {
   "cell_type": "markdown",
   "id": "acccd39a",
   "metadata": {
    "ExecuteTime": {
     "end_time": "2022-11-22T03:20:17.094265Z",
     "start_time": "2022-11-22T03:20:17.091021Z"
    }
   },
   "source": [
    "## CNN"
   ]
  },
  {
   "cell_type": "code",
   "execution_count": 223,
   "id": "69485fc8",
   "metadata": {
    "ExecuteTime": {
     "end_time": "2022-11-22T03:53:51.034654Z",
     "start_time": "2022-11-22T03:53:48.894358Z"
    }
   },
   "outputs": [],
   "source": [
    "from tensorflow.keras.models import Sequential\n",
    "from tensorflow.keras.layers import Dense, Dropout, Flatten, Conv1D\n",
    "\n",
    "feature_dim = X_train.shape[-1]\n",
    "\n",
    "cnn_model = Sequential()\n",
    "cnn_model.add(Conv1D(filters=32, kernel_size=4, activation='relu', input_shape=(maxlen, feature_dim)))\n",
    "cnn_model.add(Dropout(0.2))\n",
    "cnn_model.add(Conv1D(filters=32, kernel_size=2, activation='relu'))\n",
    "cnn_model.add(Dropout(0.2))\n",
    "cnn_model.add(Dense(64, activation='relu'))\n",
    "cnn_model.add(Dropout(0.5))\n",
    "cnn_model.add(Flatten())\n",
    "cnn_model.add(Dense(128, activation='relu'))\n",
    "cnn_model.add(Dropout(0.2))\n",
    "cnn_model.add(Dense(32, activation='relu'))\n",
    "cnn_model.add(Dropout(0.5))\n",
    "cnn_model.add(Dense(8, activation='relu'))\n",
    "cnn_model.add(Dense(1, activation='sigmoid'))\n",
    "\n"
   ]
  },
  {
   "cell_type": "code",
   "execution_count": 224,
   "id": "b50ea619",
   "metadata": {
    "ExecuteTime": {
     "end_time": "2022-11-22T03:53:51.059120Z",
     "start_time": "2022-11-22T03:53:51.037518Z"
    }
   },
   "outputs": [
    {
     "name": "stdout",
     "output_type": "stream",
     "text": [
      "Model: \"sequential_24\"\n",
      "_________________________________________________________________\n",
      " Layer (type)                Output Shape              Param #   \n",
      "=================================================================\n",
      " conv1d_48 (Conv1D)          (None, 67, 32)            5152      \n",
      "                                                                 \n",
      " dropout_120 (Dropout)       (None, 67, 32)            0         \n",
      "                                                                 \n",
      " conv1d_49 (Conv1D)          (None, 66, 32)            2080      \n",
      "                                                                 \n",
      " dropout_121 (Dropout)       (None, 66, 32)            0         \n",
      "                                                                 \n",
      " dense_120 (Dense)           (None, 66, 64)            2112      \n",
      "                                                                 \n",
      " dropout_122 (Dropout)       (None, 66, 64)            0         \n",
      "                                                                 \n",
      " flatten_24 (Flatten)        (None, 4224)              0         \n",
      "                                                                 \n",
      " dense_121 (Dense)           (None, 128)               540800    \n",
      "                                                                 \n",
      " dropout_123 (Dropout)       (None, 128)               0         \n",
      "                                                                 \n",
      " dense_122 (Dense)           (None, 32)                4128      \n",
      "                                                                 \n",
      " dropout_124 (Dropout)       (None, 32)                0         \n",
      "                                                                 \n",
      " dense_123 (Dense)           (None, 8)                 264       \n",
      "                                                                 \n",
      " dense_124 (Dense)           (None, 1)                 9         \n",
      "                                                                 \n",
      "=================================================================\n",
      "Total params: 554,545\n",
      "Trainable params: 554,545\n",
      "Non-trainable params: 0\n",
      "_________________________________________________________________\n"
     ]
    }
   ],
   "source": [
    "cnn_model.summary()"
   ]
  },
  {
   "cell_type": "code",
   "execution_count": 225,
   "id": "ca77581a",
   "metadata": {
    "ExecuteTime": {
     "end_time": "2022-11-22T03:53:51.075200Z",
     "start_time": "2022-11-22T03:53:51.061787Z"
    }
   },
   "outputs": [],
   "source": [
    "cnn_model.compile(loss='binary_crossentropy', optimizer='adam', metrics=['acc', 'AUC'])"
   ]
  },
  {
   "cell_type": "code",
   "execution_count": 226,
   "id": "6e918cc3",
   "metadata": {
    "ExecuteTime": {
     "end_time": "2022-11-22T03:54:00.050965Z",
     "start_time": "2022-11-22T03:53:51.082980Z"
    }
   },
   "outputs": [
    {
     "name": "stdout",
     "output_type": "stream",
     "text": [
      "Epoch 1/20\n",
      "81/81 [==============================] - 2s 13ms/step - loss: 0.4115 - acc: 0.8630 - auc: 0.5765 - val_loss: 0.4678 - val_acc: 0.8639 - val_auc: 0.7538\n",
      "Epoch 2/20\n",
      "81/81 [==============================] - 1s 10ms/step - loss: 0.3698 - acc: 0.8682 - auc: 0.6870 - val_loss: 0.3387 - val_acc: 0.8639 - val_auc: 0.8115\n",
      "Epoch 3/20\n",
      "81/81 [==============================] - 1s 9ms/step - loss: 0.3542 - acc: 0.8682 - auc: 0.7377 - val_loss: 0.3897 - val_acc: 0.8639 - val_auc: 0.8145\n",
      "Epoch 4/20\n",
      "81/81 [==============================] - 1s 10ms/step - loss: 0.3437 - acc: 0.8682 - auc: 0.7603 - val_loss: 0.3694 - val_acc: 0.8639 - val_auc: 0.8124\n",
      "Epoch 5/20\n",
      "81/81 [==============================] - 1s 9ms/step - loss: 0.3364 - acc: 0.8682 - auc: 0.7743 - val_loss: 0.4329 - val_acc: 0.8639 - val_auc: 0.7806\n",
      "Epoch 6/20\n",
      "81/81 [==============================] - 1s 9ms/step - loss: 0.3361 - acc: 0.8682 - auc: 0.7720 - val_loss: 0.3341 - val_acc: 0.8639 - val_auc: 0.8028\n",
      "Epoch 7/20\n",
      "81/81 [==============================] - 1s 9ms/step - loss: 0.3368 - acc: 0.8682 - auc: 0.7749 - val_loss: 0.3266 - val_acc: 0.8639 - val_auc: 0.8122\n",
      "Epoch 7: early stopping\n"
     ]
    }
   ],
   "source": [
    "# 모델 학습하기\n",
    "\n",
    "from tensorflow.keras.callbacks import EarlyStopping, ModelCheckpoint\n",
    "\n",
    "epochs = 20\n",
    "batch_size = 40\n",
    "model_name = 'cnn_model.h5'\n",
    "\n",
    "early_stopping = EarlyStopping(monitor='val_auc', patience=4, verbose=1)\n",
    "checkpoint = ModelCheckpoint(path+model_name, monitor='val_auc', save_best_only=True)\n",
    "\n",
    "cnn_history = cnn_model.fit(X_train_3d, y_train_3d, epochs=epochs, batch_size=batch_size, \n",
    "                    validation_data=(X_valid_3d, y_valid_3d), callbacks=[early_stopping, checkpoint])\n"
   ]
  },
  {
   "cell_type": "code",
   "execution_count": 227,
   "id": "9af0a9fd",
   "metadata": {
    "ExecuteTime": {
     "end_time": "2022-11-22T03:54:00.836478Z",
     "start_time": "2022-11-22T03:54:00.052787Z"
    }
   },
   "outputs": [
    {
     "data": {
      "text/plain": [
       "<matplotlib.legend.Legend at 0x7f9e90037760>"
      ]
     },
     "execution_count": 227,
     "metadata": {},
     "output_type": "execute_result"
    },
    {
     "data": {
      "image/png": "[encoded data removed]",
      "text/plain": [
       "<Figure size 640x480 with 1 Axes>"
      ]
     },
     "metadata": {},
     "output_type": "display_data"
    }
   ],
   "source": [
    "# epoch별 model acc 비교하기 \n",
    "\n",
    "import matplotlib.pyplot as plt\n",
    "\n",
    "history = cnn_history.history\n",
    "history\n",
    "loss = history['loss']\n",
    "acc = history['acc']\n",
    "auc = history['auc']\n",
    "val_loss = history['val_loss']\n",
    "val_acc = history['val_acc']\n",
    "val_auc = history['val_auc']\n",
    "length = len(val_loss)\n",
    "\n",
    "plt.plot(range(length), auc, 'ro', label='AUC')\n",
    "plt.plot(range(length), val_auc, 'b-', label='val_AUC')\n",
    "plt.xlabel('epochs')\n",
    "plt.ylabel('AUC')\n",
    "plt.legend()"
   ]
  },
  {
   "cell_type": "code",
   "execution_count": 228,
   "id": "96f82217",
   "metadata": {
    "ExecuteTime": {
     "end_time": "2022-11-22T03:54:00.976773Z",
     "start_time": "2022-11-22T03:54:00.838967Z"
    }
   },
   "outputs": [
    {
     "data": {
      "text/plain": [
       "<matplotlib.legend.Legend at 0x7f9e88a036d0>"
      ]
     },
     "execution_count": 228,
     "metadata": {},
     "output_type": "execute_result"
    },
    {
     "data": {
      "image/png": "[encoded data removed]",
      "text/plain": [
       "<Figure size 640x480 with 1 Axes>"
      ]
     },
     "metadata": {},
     "output_type": "display_data"
    }
   ],
   "source": [
    "# epoch별 모델 loss 확인하기\n",
    "\n",
    "plt.plot(range(length), loss, 'ro', label='loss')\n",
    "plt.plot(range(length), val_loss, 'b-', label='val_loss')\n",
    "plt.xlabel('epochs')\n",
    "plt.ylabel('loss')\n",
    "plt.legend()"
   ]
  },
  {
   "cell_type": "code",
   "execution_count": 233,
   "id": "46fcda4a",
   "metadata": {
    "ExecuteTime": {
     "end_time": "2022-11-22T03:54:01.171335Z",
     "start_time": "2022-11-22T03:54:00.983155Z"
    }
   },
   "outputs": [
    {
     "name": "stdout",
     "output_type": "stream",
     "text": [
      "13/13 [==============================] - 0s 3ms/step - loss: 0.3102 - acc: 0.8700 - auc: 0.8185\n",
      "test_acc: 0.8700\n",
      "test_auc: 0.8185\n"
     ]
    }
   ],
   "source": [
    "# test acc 구하기\n",
    "\n",
    "test_loss, test_acc, test_auc = cnn_model.evaluate(X_test_3d, y_test_3d)\n",
    "print(f'test_acc: {test_acc:.4f}')\n",
    "print(f'test_auc: {test_auc:.4f}')"
   ]
  },
  {
   "cell_type": "code",
   "execution_count": 234,
   "id": "83583b35",
   "metadata": {},
   "outputs": [
    {
     "name": "stdout",
     "output_type": "stream",
     "text": [
      "13/13 [==============================] - 0s 3ms/step - loss: 0.4632 - acc: 0.8700 - auc: 0.7191\n",
      "13/13 [==============================] - 0s 3ms/step\n",
      "acc_test: 0.8700\n",
      "auc_score_test: 0.7191\n"
     ]
    }
   ],
   "source": [
    "from keras.models import load_model\n",
    "\n",
    "loaded_model = load_model(path+'cnn_model.h5')\n",
    "\n",
    "test_loss, test_acc, test_auc = loaded_model.evaluate(X_test_3d, y_test_3d)\n",
    "test_pred = loaded_model.predict(X_test_3d)\n",
    "auc = roc_auc_score(y_test_3d, test_pred)\n",
    "\n",
    "print(f'acc_test: {test_acc:.4f}')\n",
    "print(f'auc_score_test: {auc:.4f}')"
   ]
  },
  {
   "cell_type": "code",
   "execution_count": 235,
   "id": "89cc4cbf",
   "metadata": {
    "ExecuteTime": {
     "end_time": "2022-11-22T03:54:01.334401Z",
     "start_time": "2022-11-22T03:54:01.173270Z"
    }
   },
   "outputs": [
    {
     "name": "stdout",
     "output_type": "stream",
     "text": [
      "13/13 [==============================] - 0s 3ms/step\n",
      "acc_test: 0.8700\n",
      "auc_score_test: 0.8191\n"
     ]
    }
   ],
   "source": [
    "# auroc 구하기\n",
    "\n",
    "from sklearn.metrics import roc_auc_score\n",
    "\n",
    "test_pred = cnn_model.predict(X_test_3d)\n",
    "auc = roc_auc_score(y_test_3d, test_pred)\n",
    "\n",
    "print(f'acc_test: {test_acc:.4f}')\n",
    "print(f'auc_score_test: {auc:.4f}')"
   ]
  },
  {
   "cell_type": "markdown",
   "id": "2ec5e868",
   "metadata": {},
   "source": [
    "## CNN 모델 테스트 결과"
   ]
  },
  {
   "cell_type": "markdown",
   "id": "0abf0ded",
   "metadata": {},
   "source": [
    "- CNN이 LSTM보다는 auc가 잘 나옴\n",
    "    - train data가 3차원이므로, Conv1D를 사용함.\n",
    "- MaxPool1D는 생각보다 좋지 않음.\n",
    "    - 사용이 미숙해서 그럴 수 있으므로 다시 차근히 이해하고 적용해보자.\n",
    "- val_acc를 보며 학습이 잘 안된다고 했지만, 우리는 auc를 보고 판단할 것."
   ]
  },
  {
   "cell_type": "code",
   "execution_count": null,
   "id": "f7915993",
   "metadata": {},
   "outputs": [],
   "source": []
  }
 ],
 "metadata": {
  "kernelspec": {
   "display_name": "nlp3810_new",
   "language": "python",
   "name": "nlp3810"
  },
  "language_info": {
   "codemirror_mode": {
    "name": "ipython",
    "version": 3
   },
   "file_extension": ".py",
   "mimetype": "text/x-python",
   "name": "python",
   "nbconvert_exporter": "python",
   "pygments_lexer": "ipython3",
   "version": "3.8.10"
  },
  "toc": {
   "base_numbering": 1,
   "nav_menu": {},
   "number_sections": true,
   "sideBar": true,
   "skip_h1_title": false,
   "title_cell": "Table of Contents",
   "title_sidebar": "Contents",
   "toc_cell": false,
   "toc_position": {},
   "toc_section_display": true,
   "toc_window_display": true
  },
  "varInspector": {
   "cols": {
    "lenName": 16,
    "lenType": 16,
    "lenVar": 40
   },
   "kernels_config": {
    "python": {
     "delete_cmd_postfix": "",
     "delete_cmd_prefix": "del ",
     "library": "var_list.py",
     "varRefreshCmd": "print(var_dic_list())"
    },
    "r": {
     "delete_cmd_postfix": ") ",
     "delete_cmd_prefix": "rm(",
     "library": "var_list.r",
     "varRefreshCmd": "cat(var_dic_list()) "
    }
   },
   "types_to_exclude": [
    "module",
    "function",
    "builtin_function_or_method",
    "instance",
    "_Feature"
   ],
   "window_display": false
  }
 },
 "nbformat": 4,
 "nbformat_minor": 5
}
